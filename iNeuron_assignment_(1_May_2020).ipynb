{
  "nbformat": 4,
  "nbformat_minor": 0,
  "metadata": {
    "colab": {
      "name": "iNeuron assignment (1 May 2020).ipynb",
      "provenance": [],
      "collapsed_sections": []
    },
    "kernelspec": {
      "name": "python3",
      "display_name": "Python 3"
    }
  },
  "cells": [
    {
      "cell_type": "code",
      "metadata": {
        "id": "cg7kZ8HUt5Qj",
        "colab_type": "code",
        "colab": {}
      },
      "source": [
        "list = [ x for x in range (2000, 3201) if x % 7 == 0 and x % 5 != 0]"
      ],
      "execution_count": 0,
      "outputs": []
    },
    {
      "cell_type": "code",
      "metadata": {
        "id": "QIaoVk2ZuQFV",
        "colab_type": "code",
        "outputId": "e6782a59-33ac-4f6e-b948-ef7ec077906b",
        "colab": {
          "base_uri": "https://localhost:8080/",
          "height": 54
        }
      },
      "source": [
        "print(list)"
      ],
      "execution_count": 0,
      "outputs": [
        {
          "output_type": "stream",
          "text": [
            "[2002, 2009, 2016, 2023, 2037, 2044, 2051, 2058, 2072, 2079, 2086, 2093, 2107, 2114, 2121, 2128, 2142, 2149, 2156, 2163, 2177, 2184, 2191, 2198, 2212, 2219, 2226, 2233, 2247, 2254, 2261, 2268, 2282, 2289, 2296, 2303, 2317, 2324, 2331, 2338, 2352, 2359, 2366, 2373, 2387, 2394, 2401, 2408, 2422, 2429, 2436, 2443, 2457, 2464, 2471, 2478, 2492, 2499, 2506, 2513, 2527, 2534, 2541, 2548, 2562, 2569, 2576, 2583, 2597, 2604, 2611, 2618, 2632, 2639, 2646, 2653, 2667, 2674, 2681, 2688, 2702, 2709, 2716, 2723, 2737, 2744, 2751, 2758, 2772, 2779, 2786, 2793, 2807, 2814, 2821, 2828, 2842, 2849, 2856, 2863, 2877, 2884, 2891, 2898, 2912, 2919, 2926, 2933, 2947, 2954, 2961, 2968, 2982, 2989, 2996, 3003, 3017, 3024, 3031, 3038, 3052, 3059, 3066, 3073, 3087, 3094, 3101, 3108, 3122, 3129, 3136, 3143, 3157, 3164, 3171, 3178, 3192, 3199]\n"
          ],
          "name": "stdout"
        }
      ]
    },
    {
      "cell_type": "markdown",
      "metadata": {
        "id": "ZdAR4QIiOITZ",
        "colab_type": "text"
      },
      "source": [
        "Write a Python program to accept the user's first and last name and then getting them printed in the the reverse order with a space between first name and last name. \n",
        " \n",
        " "
      ]
    },
    {
      "cell_type": "code",
      "metadata": {
        "id": "M8DfptoZuVWQ",
        "colab_type": "code",
        "colab": {}
      },
      "source": [
        "fname = 'Bee Leng'\n",
        "lname = 'Hong'\n"
      ],
      "execution_count": 0,
      "outputs": []
    },
    {
      "cell_type": "code",
      "metadata": {
        "id": "UojxE6QOvMFa",
        "colab_type": "code",
        "outputId": "620da2f1-6751-47fd-e6b5-a49ffc2536e8",
        "colab": {
          "base_uri": "https://localhost:8080/",
          "height": 34
        }
      },
      "source": [
        "print('Name:', fname, lname)"
      ],
      "execution_count": 0,
      "outputs": [
        {
          "output_type": "stream",
          "text": [
            "Name: Bee Leng Hong\n"
          ],
          "name": "stdout"
        }
      ]
    },
    {
      "cell_type": "markdown",
      "metadata": {
        "id": "6lwo8EXgOEOA",
        "colab_type": "text"
      },
      "source": [
        "Write a Python program to find the volume of a sphere with diameter 12 cm.  using Formula: V=4/3 * π * r 3 . NOTE: π = 3.14"
      ]
    },
    {
      "cell_type": "code",
      "metadata": {
        "id": "OdxT3l0UOBIF",
        "colab_type": "code",
        "colab": {}
      },
      "source": [
        "import math"
      ],
      "execution_count": 0,
      "outputs": []
    },
    {
      "cell_type": "code",
      "metadata": {
        "id": "rU2oVXpaOh3U",
        "colab_type": "code",
        "colab": {}
      },
      "source": [
        "pi = math.pi"
      ],
      "execution_count": 0,
      "outputs": []
    },
    {
      "cell_type": "markdown",
      "metadata": {
        "id": "51GA7wbfOpgj",
        "colab_type": "text"
      },
      "source": [
        "converting diameter into radius"
      ]
    },
    {
      "cell_type": "code",
      "metadata": {
        "id": "Y1WbzeXROmh_",
        "colab_type": "code",
        "colab": {}
      },
      "source": [
        "r = float(12/2)"
      ],
      "execution_count": 0,
      "outputs": []
    },
    {
      "cell_type": "code",
      "metadata": {
        "id": "rUxiOSyGOzgc",
        "colab_type": "code",
        "colab": {}
      },
      "source": [
        "v =(float(4/3)*(pi)*(r)**3)"
      ],
      "execution_count": 0,
      "outputs": []
    },
    {
      "cell_type": "code",
      "metadata": {
        "id": "33XLCZC9PVxJ",
        "colab_type": "code",
        "outputId": "fb332062-6101-4df8-ea47-8e8c2a0813cd",
        "colab": {
          "base_uri": "https://localhost:8080/",
          "height": 34
        }
      },
      "source": [
        "print(v)"
      ],
      "execution_count": 0,
      "outputs": [
        {
          "output_type": "stream",
          "text": [
            "904.7786842338603\n"
          ],
          "name": "stdout"
        }
      ]
    },
    {
      "cell_type": "markdown",
      "metadata": {
        "id": "Lu-tuX3qQbMv",
        "colab_type": "text"
      },
      "source": [
        "Write a program which accepts a sequence of comma-separated numbers from console and generate a list. "
      ]
    },
    {
      "cell_type": "code",
      "metadata": {
        "id": "9Ay_i1lbkDuV",
        "colab_type": "code",
        "colab": {}
      },
      "source": [
        "l=[1,2,3,4]"
      ],
      "execution_count": 0,
      "outputs": []
    },
    {
      "cell_type": "code",
      "metadata": {
        "id": "Wlhe4C-lkTON",
        "colab_type": "code",
        "outputId": "b8cf5748-ee35-48de-98ab-c830edc4bac6",
        "colab": {
          "base_uri": "https://localhost:8080/",
          "height": 34
        }
      },
      "source": [
        "l"
      ],
      "execution_count": 0,
      "outputs": [
        {
          "output_type": "execute_result",
          "data": {
            "text/plain": [
              "[1, 2, 3, 4]"
            ]
          },
          "metadata": {
            "tags": []
          },
          "execution_count": 47
        }
      ]
    },
    {
      "cell_type": "markdown",
      "metadata": {
        "id": "L89Abw2_lv3_",
        "colab_type": "text"
      },
      "source": [
        "Create the below pattern using nested for loop in Python. "
      ]
    },
    {
      "cell_type": "code",
      "metadata": {
        "id": "Eh394teSkfef",
        "colab_type": "code",
        "outputId": "9019a543-80d2-4240-b87e-28b6e976b633",
        "colab": {
          "base_uri": "https://localhost:8080/",
          "height": 187
        }
      },
      "source": [
        "n=5;\n",
        "for i in range(n):\n",
        "    for j in range(i):\n",
        "        print ('* ', end=\"\")\n",
        "    print('')\n",
        "\n",
        "for i in range(n,0,-1):\n",
        "    for j in range(i):\n",
        "        print('* ', end=\"\")\n",
        "    print('')"
      ],
      "execution_count": 0,
      "outputs": [
        {
          "output_type": "stream",
          "text": [
            "\n",
            "* \n",
            "* * \n",
            "* * * \n",
            "* * * * \n",
            "* * * * * \n",
            "* * * * \n",
            "* * * \n",
            "* * \n",
            "* \n"
          ],
          "name": "stdout"
        }
      ]
    },
    {
      "cell_type": "markdown",
      "metadata": {
        "id": "hWpVZeqgolky",
        "colab_type": "text"
      },
      "source": [
        "Write a Python program to reverse a word after accepting the input from the user. Input word: AcadGild "
      ]
    },
    {
      "cell_type": "code",
      "metadata": {
        "id": "RgCaQkvilsq1",
        "colab_type": "code",
        "colab": {}
      },
      "source": [
        "txt = \"AcadGild\"[::-1]"
      ],
      "execution_count": 0,
      "outputs": []
    },
    {
      "cell_type": "code",
      "metadata": {
        "id": "AvUeeb68oVbw",
        "colab_type": "code",
        "outputId": "0f0dee0b-979b-4d6f-dd4a-3da42956effa",
        "colab": {
          "base_uri": "https://localhost:8080/",
          "height": 34
        }
      },
      "source": [
        "print(txt)"
      ],
      "execution_count": 0,
      "outputs": [
        {
          "output_type": "stream",
          "text": [
            "dliGdacA\n"
          ],
          "name": "stdout"
        }
      ]
    },
    {
      "cell_type": "code",
      "metadata": {
        "id": "KOqbG4EUoijt",
        "colab_type": "code",
        "colab": {}
      },
      "source": [
        "a = \"\"\" WE, THE PEOPLE OF INDIA, \\n\\thaving solemnly resolved to constitute India into a SOVEREIGN,!     \\n\\t      SOCIALIST, SECULAR, DEMOCRATIC REPUBLIC   \\n\\t       and to secure to all its citizens \"\"\""
      ],
      "execution_count": 0,
      "outputs": []
    },
    {
      "cell_type": "code",
      "metadata": {
        "id": "Tkglv_V7Z2qu",
        "colab_type": "code",
        "colab": {
          "base_uri": "https://localhost:8080/",
          "height": 85
        },
        "outputId": "896f5a12-c453-4ce1-f68c-4763b0d8fad1"
      },
      "source": [
        "print (a)"
      ],
      "execution_count": 19,
      "outputs": [
        {
          "output_type": "stream",
          "text": [
            " WE, THE PEOPLE OF INDIA, \n",
            "\thaving solemnly resolved to constitute India into a SOVEREIGN,!     \n",
            "\t      SOCIALIST, SECULAR, DEMOCRATIC REPUBLIC   \n",
            "\t       and to secure to all its citizens \n"
          ],
          "name": "stdout"
        }
      ]
    },
    {
      "cell_type": "code",
      "metadata": {
        "id": "G7L1ns2NZ8u4",
        "colab_type": "code",
        "colab": {}
      },
      "source": [
        ""
      ],
      "execution_count": 0,
      "outputs": []
    }
  ]
}