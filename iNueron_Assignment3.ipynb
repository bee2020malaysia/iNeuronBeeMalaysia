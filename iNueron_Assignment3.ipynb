{
  "nbformat": 4,
  "nbformat_minor": 0,
  "metadata": {
    "colab": {
      "name": "iNueron_Assignment3.ipynb",
      "provenance": [],
      "collapsed_sections": [],
      "authorship_tag": "ABX9TyMfkaIyAq5/u8GFnQxv5Hir",
      "include_colab_link": true
    },
    "kernelspec": {
      "name": "python3",
      "display_name": "Python 3"
    }
  },
  "cells": [
    {
      "cell_type": "markdown",
      "metadata": {
        "id": "view-in-github",
        "colab_type": "text"
      },
      "source": [
        "<a href=\"https://colab.research.google.com/github/bee2020malaysia/iNeuronBeeMalaysia/blob/master/iNueron_Assignment3.ipynb\" target=\"_parent\"><img src=\"https://colab.research.google.com/assets/colab-badge.svg\" alt=\"Open In Colab\"/></a>"
      ]
    },
    {
      "cell_type": "markdown",
      "metadata": {
        "id": "qD648Fguunw6",
        "colab_type": "text"
      },
      "source": [
        "Write a function to compute 5/0 and use try/except to catch the exceptions"
      ]
    },
    {
      "cell_type": "code",
      "metadata": {
        "id": "UrqMAKMZugTG",
        "colab_type": "code",
        "outputId": "fc141a4d-e0f9-43d9-ee04-b9d3493c603d",
        "colab": {
          "base_uri": "https://localhost:8080/",
          "height": 34
        }
      },
      "source": [
        "try:\n",
        "    x = 5/0\n",
        "except:\n",
        "    print(\"Error dividing by zero\")"
      ],
      "execution_count": 1,
      "outputs": [
        {
          "output_type": "stream",
          "text": [
            "Error dividing by zero\n"
          ],
          "name": "stdout"
        }
      ]
    },
    {
      "cell_type": "markdown",
      "metadata": {
        "id": "DCQtQq9VzwP4",
        "colab_type": "text"
      },
      "source": [
        "Implement a Python program to generate all sentences where subject is in [\"Americans\", \"Indians\"] and verb is in [\"Play\", \"watch\"] and the object is in [\"Baseball\",\"cricket\"]. Hint: Subject,Verb and Object should be declared in the program as shown below. "
      ]
    },
    {
      "cell_type": "code",
      "metadata": {
        "id": "-1Flhpqt0nPS",
        "colab_type": "code",
        "outputId": "01446518-3524-4245-bea7-a44db90c59bb",
        "colab": {
          "base_uri": "https://localhost:8080/",
          "height": 156
        }
      },
      "source": [
        "subjects=[\"Americans\",\"Indians\"]\n",
        "verbs=[\"play\",\"watch\"]\n",
        "objects=[\"Baseball\",\"Cricket\"]\n",
        "\n",
        "sentence_list = [(sub+\" \"+ vb + \" \"+ ob)for sub in subjects for vb in verbs for ob in objects]\n",
        "for sentence in sentence_list:\n",
        "  print (sentence)\n"
      ],
      "execution_count": 0,
      "outputs": [
        {
          "output_type": "stream",
          "text": [
            "Americans play Baseball\n",
            "Americans play Cricket\n",
            "Americans watch Baseball\n",
            "Americans watch Cricket\n",
            "Indians play Baseball\n",
            "Indians play Cricket\n",
            "Indians watch Baseball\n",
            "Indians watch Cricket\n"
          ],
          "name": "stdout"
        }
      ]
    },
    {
      "cell_type": "markdown",
      "metadata": {
        "id": "P6QyhsmgKE_E",
        "colab_type": "text"
      },
      "source": [
        "Write a function so that the columns of the output matrix are powers of the input vector.  \n",
        "The order of the powers is determined by the increasing boolean argument. Specifically, when              increasing is False, the i-th output column is the input vector raised element-wise to the power                of N - i - 1. "
      ]
    },
    {
      "cell_type": "code",
      "metadata": {
        "id": "qr32CaDOvQkQ",
        "colab_type": "code",
        "colab": {}
      },
      "source": [
        "import numpy as np"
      ],
      "execution_count": 0,
      "outputs": []
    },
    {
      "cell_type": "code",
      "metadata": {
        "id": "MUz6R75z2-w1",
        "colab_type": "code",
        "outputId": "c496d35e-7870-448f-b58d-c111c9a95e3f",
        "colab": {
          "base_uri": "https://localhost:8080/",
          "height": 87
        }
      },
      "source": [
        "x = np.array ([1,2,3,5])\n",
        "N = 3\n",
        "np.vander(x,N)"
      ],
      "execution_count": 0,
      "outputs": [
        {
          "output_type": "execute_result",
          "data": {
            "text/plain": [
              "array([[ 1,  1,  1],\n",
              "       [ 4,  2,  1],\n",
              "       [ 9,  3,  1],\n",
              "       [25,  5,  1]])"
            ]
          },
          "metadata": {
            "tags": []
          },
          "execution_count": 2
        }
      ]
    },
    {
      "cell_type": "code",
      "metadata": {
        "id": "2aOEj98t3ZCo",
        "colab_type": "code",
        "outputId": "132f87d0-3988-4a52-bf1c-ab660354df4e",
        "colab": {
          "base_uri": "https://localhost:8080/",
          "height": 87
        }
      },
      "source": [
        "np.column_stack([x**(N-1-i) for i in range(N)])"
      ],
      "execution_count": 0,
      "outputs": [
        {
          "output_type": "execute_result",
          "data": {
            "text/plain": [
              "array([[ 1,  1,  1],\n",
              "       [ 4,  2,  1],\n",
              "       [ 9,  3,  1],\n",
              "       [25,  5,  1]])"
            ]
          },
          "metadata": {
            "tags": []
          },
          "execution_count": 4
        }
      ]
    },
    {
      "cell_type": "code",
      "metadata": {
        "id": "ntsS1Axq3mIl",
        "colab_type": "code",
        "outputId": "78bf3ce8-c46c-4175-a7d8-256ca10c67ed",
        "colab": {
          "base_uri": "https://localhost:8080/",
          "height": 87
        }
      },
      "source": [
        "x = np.array([1,2,3,5])\n",
        "np.vander(x)"
      ],
      "execution_count": 0,
      "outputs": [
        {
          "output_type": "execute_result",
          "data": {
            "text/plain": [
              "array([[  1,   1,   1,   1],\n",
              "       [  8,   4,   2,   1],\n",
              "       [ 27,   9,   3,   1],\n",
              "       [125,  25,   5,   1]])"
            ]
          },
          "metadata": {
            "tags": []
          },
          "execution_count": 5
        }
      ]
    },
    {
      "cell_type": "code",
      "metadata": {
        "id": "S1IEgnDI4vx7",
        "colab_type": "code",
        "outputId": "48a5ca95-0b21-4618-d75a-e404f66b6760",
        "colab": {
          "base_uri": "https://localhost:8080/",
          "height": 87
        }
      },
      "source": [
        "np.vander(x, increasing=True)"
      ],
      "execution_count": 0,
      "outputs": [
        {
          "output_type": "execute_result",
          "data": {
            "text/plain": [
              "array([[  1,   1,   1,   1],\n",
              "       [  1,   2,   4,   8],\n",
              "       [  1,   3,   9,  27],\n",
              "       [  1,   5,  25, 125]])"
            ]
          },
          "metadata": {
            "tags": []
          },
          "execution_count": 6
        }
      ]
    },
    {
      "cell_type": "code",
      "metadata": {
        "id": "-k6Z6i_U4_rw",
        "colab_type": "code",
        "outputId": "5d6dfa4c-767d-4262-990e-e62c8fbf3f71",
        "colab": {
          "base_uri": "https://localhost:8080/",
          "height": 35
        }
      },
      "source": [
        "np.linalg.det(np.vander(x))"
      ],
      "execution_count": 0,
      "outputs": [
        {
          "output_type": "execute_result",
          "data": {
            "text/plain": [
              "48.00000000000003"
            ]
          },
          "metadata": {
            "tags": []
          },
          "execution_count": 7
        }
      ]
    },
    {
      "cell_type": "code",
      "metadata": {
        "id": "I01g9jDS5Lpw",
        "colab_type": "code",
        "outputId": "0a35385c-4d65-4352-b284-d00771037436",
        "colab": {
          "base_uri": "https://localhost:8080/",
          "height": 35
        }
      },
      "source": [
        "(5-3)*(5-2)*(5-1)*(3-2)*(3-1)*(2-1)"
      ],
      "execution_count": 0,
      "outputs": [
        {
          "output_type": "execute_result",
          "data": {
            "text/plain": [
              "48"
            ]
          },
          "metadata": {
            "tags": []
          },
          "execution_count": 8
        }
      ]
    },
    {
      "cell_type": "code",
      "metadata": {
        "id": "qgxFiWOd5cip",
        "colab_type": "code",
        "colab": {}
      },
      "source": [
        ""
      ],
      "execution_count": 0,
      "outputs": []
    }
  ]
}