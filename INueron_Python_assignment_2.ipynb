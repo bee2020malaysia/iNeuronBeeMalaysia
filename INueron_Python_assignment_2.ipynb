{
  "nbformat": 4,
  "nbformat_minor": 0,
  "metadata": {
    "colab": {
      "name": "INueron-Python assignment 2.ipynb",
      "provenance": [],
      "collapsed_sections": []
    },
    "kernelspec": {
      "name": "python3",
      "display_name": "Python 3"
    }
  },
  "cells": [
    {
      "cell_type": "code",
      "metadata": {
        "id": "gDdbRI4SW44r",
        "colab_type": "code",
        "colab": {}
      },
      "source": [
        "from functools import reduce\n"
      ],
      "execution_count": 0,
      "outputs": []
    },
    {
      "cell_type": "markdown",
      "metadata": {
        "id": "1bc-l4LRXvp1",
        "colab_type": "text"
      },
      "source": [
        "Write a Python Program to implement your own myreduce() function which works exactly like Python's built-in function reduce() \n"
      ]
    },
    {
      "cell_type": "code",
      "metadata": {
        "id": "KsbkwWYVXEYh",
        "colab_type": "code",
        "colab": {}
      },
      "source": [
        "def summation (a,b):\n",
        "    return a+b"
      ],
      "execution_count": 0,
      "outputs": []
    },
    {
      "cell_type": "code",
      "metadata": {
        "id": "vS39qGdnXgQy",
        "colab_type": "code",
        "outputId": "00456804-397f-49ba-c4ea-88d06840030b",
        "colab": {
          "base_uri": "https://localhost:8080/",
          "height": 34
        }
      },
      "source": [
        "l = [10,11,12,13,14,15]\n",
        "reduce(summation,l)"
      ],
      "execution_count": 0,
      "outputs": [
        {
          "output_type": "execute_result",
          "data": {
            "text/plain": [
              "75"
            ]
          },
          "metadata": {
            "tags": []
          },
          "execution_count": 3
        }
      ]
    },
    {
      "cell_type": "markdown",
      "metadata": {
        "id": "-wgBXFdNX7bF",
        "colab_type": "text"
      },
      "source": [
        "Write a Python program to implement your own myfilter() function which works exactly like Python's built-in function filter() "
      ]
    },
    {
      "cell_type": "code",
      "metadata": {
        "id": "76dmygXWXt-X",
        "colab_type": "code",
        "colab": {}
      },
      "source": [
        "l = [10,11,12,13,14,15]"
      ],
      "execution_count": 0,
      "outputs": []
    },
    {
      "cell_type": "code",
      "metadata": {
        "id": "jyfjOP3DYakE",
        "colab_type": "code",
        "outputId": "5d797c9c-7f2c-4efb-8d44-594c36828268",
        "colab": {
          "base_uri": "https://localhost:8080/",
          "height": 34
        }
      },
      "source": [
        "list(filter(lambda x : x%2 ==0, l))"
      ],
      "execution_count": 0,
      "outputs": [
        {
          "output_type": "execute_result",
          "data": {
            "text/plain": [
              "[10, 12, 14]"
            ]
          },
          "metadata": {
            "tags": []
          },
          "execution_count": 5
        }
      ]
    },
    {
      "cell_type": "markdown",
      "metadata": {
        "id": "6V-VEjg-YsP9",
        "colab_type": "text"
      },
      "source": [
        "Implement List comprehensions to produce the following lists. "
      ]
    },
    {
      "cell_type": "code",
      "metadata": {
        "id": "Ws8B9D_PcbGI",
        "colab_type": "code",
        "colab": {}
      },
      "source": [
        "list = iter ('ACADGILD')"
      ],
      "execution_count": 0,
      "outputs": []
    },
    {
      "cell_type": "code",
      "metadata": {
        "id": "eVEfgVrUd3yt",
        "colab_type": "code",
        "outputId": "61e491d8-a72a-4f2a-9a8a-56eeb4226c69",
        "colab": {
          "base_uri": "https://localhost:8080/",
          "height": 34
        }
      },
      "source": [
        "type(list)"
      ],
      "execution_count": 0,
      "outputs": [
        {
          "output_type": "execute_result",
          "data": {
            "text/plain": [
              "str_iterator"
            ]
          },
          "metadata": {
            "tags": []
          },
          "execution_count": 14
        }
      ]
    },
    {
      "cell_type": "code",
      "metadata": {
        "id": "mIt6MBTLeBLk",
        "colab_type": "code",
        "outputId": "f1c4e2a3-4b43-41b9-e55b-1fb17c356453",
        "colab": {
          "base_uri": "https://localhost:8080/",
          "height": 34
        }
      },
      "source": [
        "print([letter for letter in list])"
      ],
      "execution_count": 0,
      "outputs": [
        {
          "output_type": "stream",
          "text": [
            "['A', 'C', 'A', 'D', 'G', 'I', 'L', 'D']\n"
          ],
          "name": "stdout"
        }
      ]
    },
    {
      "cell_type": "code",
      "metadata": {
        "id": "L-cK8UD6flwO",
        "colab_type": "code",
        "colab": {}
      },
      "source": [
        "listtimes = range (1,5)\n",
        "listletter = ['x','y','z']"
      ],
      "execution_count": 0,
      "outputs": []
    },
    {
      "cell_type": "code",
      "metadata": {
        "id": "ZRji4b5pgq4J",
        "colab_type": "code",
        "outputId": "727d95fe-a9de-460c-9d29-6ef6e1a7d602",
        "colab": {
          "base_uri": "https://localhost:8080/",
          "height": 34
        }
      },
      "source": [
        "print([i*a for i in listletter for a in listtimes])"
      ],
      "execution_count": 0,
      "outputs": [
        {
          "output_type": "stream",
          "text": [
            "['x', 'xx', 'xxx', 'xxxx', 'y', 'yy', 'yyy', 'yyyy', 'z', 'zz', 'zzz', 'zzzz']\n"
          ],
          "name": "stdout"
        }
      ]
    },
    {
      "cell_type": "code",
      "metadata": {
        "id": "uWaq6SXeg7eH",
        "colab_type": "code",
        "colab": {}
      },
      "source": [
        "listtimesouter = range(1,3)\n",
        "listtimesinner = range(1,3)\n",
        "listletter = ['x','y','z']"
      ],
      "execution_count": 0,
      "outputs": []
    },
    {
      "cell_type": "code",
      "metadata": {
        "id": "_nA9WYeIhqBW",
        "colab_type": "code",
        "outputId": "8f2aaa6d-61d9-4c97-839b-9b498c1298c2",
        "colab": {
          "base_uri": "https://localhost:8080/",
          "height": 34
        }
      },
      "source": [
        "print([a*b*i for i in listtimesouter for b in listtimesinner for a in listletter])"
      ],
      "execution_count": 0,
      "outputs": [
        {
          "output_type": "stream",
          "text": [
            "['x', 'y', 'z', 'xx', 'yy', 'zz', 'xx', 'yy', 'zz', 'xxxx', 'yyyy', 'zzzz']\n"
          ],
          "name": "stdout"
        }
      ]
    },
    {
      "cell_type": "code",
      "metadata": {
        "id": "Df942D3KiFcc",
        "colab_type": "code",
        "colab": {}
      },
      "source": [
        "listouter=range(2,5)\n",
        "listinner=range(3)"
      ],
      "execution_count": 0,
      "outputs": []
    },
    {
      "cell_type": "code",
      "metadata": {
        "id": "CmK-MjgOjWcr",
        "colab_type": "code",
        "outputId": "0612c1dd-0d6c-4702-d385-813ae31f49c6",
        "colab": {
          "base_uri": "https://localhost:8080/",
          "height": 34
        }
      },
      "source": [
        "print([[i+a] for i in listinner for a in listouter])"
      ],
      "execution_count": 0,
      "outputs": [
        {
          "output_type": "stream",
          "text": [
            "[[2], [3], [4], [3], [4], [5], [4], [5], [6]]\n"
          ],
          "name": "stdout"
        }
      ]
    },
    {
      "cell_type": "code",
      "metadata": {
        "id": "fC8aMD8Ljnha",
        "colab_type": "code",
        "colab": {}
      },
      "source": [
        "list= [2,3,4,5]"
      ],
      "execution_count": 0,
      "outputs": []
    },
    {
      "cell_type": "code",
      "metadata": {
        "id": "eU9WsCe-qBU1",
        "colab_type": "code",
        "outputId": "42319eba-7cb3-4d2e-dbcc-1c32590ed318",
        "colab": {
          "base_uri": "https://localhost:8080/",
          "height": 34
        }
      },
      "source": [
        "print([[x+j for x in list] for j in range(0,4)])"
      ],
      "execution_count": 0,
      "outputs": [
        {
          "output_type": "stream",
          "text": [
            "[[2, 3, 4, 5], [3, 4, 5, 6], [4, 5, 6, 7], [5, 6, 7, 8]]\n"
          ],
          "name": "stdout"
        }
      ]
    },
    {
      "cell_type": "code",
      "metadata": {
        "id": "c6lL0R6CsQJI",
        "colab_type": "code",
        "colab": {}
      },
      "source": [
        "listouter=[1,2,3]\n",
        "listinner=[1,2,3]"
      ],
      "execution_count": 0,
      "outputs": []
    },
    {
      "cell_type": "code",
      "metadata": {
        "id": "qZB2zwLYsk3V",
        "colab_type": "code",
        "outputId": "199f3190-67e8-490d-ebe3-66d776ad3d15",
        "colab": {
          "base_uri": "https://localhost:8080/",
          "height": 34
        }
      },
      "source": [
        "print([(j,i) for i in listouter for j in listinner])"
      ],
      "execution_count": 0,
      "outputs": [
        {
          "output_type": "stream",
          "text": [
            "[(1, 1), (2, 1), (3, 1), (1, 2), (2, 2), (3, 2), (1, 3), (2, 3), (3, 3)]\n"
          ],
          "name": "stdout"
        }
      ]
    },
    {
      "cell_type": "markdown",
      "metadata": {
        "id": "0J0S1L-Quup0",
        "colab_type": "text"
      },
      "source": [
        "Implement a function longestWord() that takes a list of words and returns the longest one. "
      ]
    },
    {
      "cell_type": "code",
      "metadata": {
        "id": "Sd-M_96oswpe",
        "colab_type": "code",
        "colab": {}
      },
      "source": [
        "def find_longest_word(words_list):\n",
        "    word_len = []\n",
        "    for n in words_list:\n",
        "      word_len.append((len(n),n))\n",
        "    word_len.sort()\n",
        "    return word_len[-1][1]\n"
      ],
      "execution_count": 0,
      "outputs": []
    },
    {
      "cell_type": "code",
      "metadata": {
        "id": "KUd1PKAh1k9s",
        "colab_type": "code",
        "outputId": "10e09a2f-0957-4a92-c7ea-099532bd2fb4",
        "colab": {
          "base_uri": "https://localhost:8080/",
          "height": 34
        }
      },
      "source": [
        "print(find_longest_word([\"YOU\",\"HAVE\",\"MONEY\"]))"
      ],
      "execution_count": 0,
      "outputs": [
        {
          "output_type": "stream",
          "text": [
            "MONEY\n"
          ],
          "name": "stdout"
        }
      ]
    },
    {
      "cell_type": "markdown",
      "metadata": {
        "id": "75i6UC2MgizJ",
        "colab_type": "text"
      },
      "source": [
        "Write a Python Program(with class concepts) to find the area of the triangle using the below formula. \n",
        " \n",
        "area = (s*(s-a)*(s-b)*(s-c)) ** 0.5 "
      ]
    },
    {
      "cell_type": "code",
      "metadata": {
        "id": "kHLcYLAa189g",
        "colab_type": "code",
        "colab": {}
      },
      "source": [
        "a = 20\n",
        "b = 20\n",
        "c = 10"
      ],
      "execution_count": 0,
      "outputs": []
    },
    {
      "cell_type": "code",
      "metadata": {
        "id": "BbR2kPdQhW44",
        "colab_type": "code",
        "colab": {}
      },
      "source": [
        "s = (a+b+c)/2"
      ],
      "execution_count": 0,
      "outputs": []
    },
    {
      "cell_type": "code",
      "metadata": {
        "id": "5ikrRLSVhB5R",
        "colab_type": "code",
        "colab": {}
      },
      "source": [
        "area = (s*(s-a)*(s-b)*(s-c))**0.5"
      ],
      "execution_count": 0,
      "outputs": []
    },
    {
      "cell_type": "code",
      "metadata": {
        "id": "P0R4Prk4hriU",
        "colab_type": "code",
        "outputId": "da1625c7-7179-467c-f6d7-22f36fa77340",
        "colab": {
          "base_uri": "https://localhost:8080/",
          "height": 34
        }
      },
      "source": [
        "print('The area of the triangle is %0.2f' %area)"
      ],
      "execution_count": 0,
      "outputs": [
        {
          "output_type": "stream",
          "text": [
            "The area of the triangle is 96.82\n"
          ],
          "name": "stdout"
        }
      ]
    },
    {
      "cell_type": "markdown",
      "metadata": {
        "id": "j2WUKkZsigIc",
        "colab_type": "text"
      },
      "source": [
        "Write a function filter_long_words() that takes a list of words and an integer n and returns the list of words that are longer than n.  ( Filter long words using filter function)"
      ]
    },
    {
      "cell_type": "code",
      "metadata": {
        "id": "EOHIJSHOiCZT",
        "colab_type": "code",
        "colab": {}
      },
      "source": [
        "def filter_long_words (listed, longest):\n",
        "    lenWords = 0\n",
        "    track = 0\n",
        "    winner = []\n",
        "    for i in listed:\n",
        "      lenWords = len(i)\n",
        "      if lenWords > longest:\n",
        "           winner.append(i)\n",
        "\n",
        "\n",
        "    return print (\"Words that are longer than\", longest,\" : \", winner)\n",
        "    \n"
      ],
      "execution_count": 0,
      "outputs": []
    },
    {
      "cell_type": "code",
      "metadata": {
        "id": "afufujacIfGv",
        "colab_type": "code",
        "outputId": "97ccae7f-e43b-4607-db26-57c86da7fe3b",
        "colab": {
          "base_uri": "https://localhost:8080/",
          "height": 85
        }
      },
      "source": [
        "a_list = []\n",
        "num_nums = int(input(\"How many words? \"))\n",
        "for i in range (num_nums):\n",
        "    num = input(\"Give me a word: \")\n",
        "    a_list.append(num)"
      ],
      "execution_count": 0,
      "outputs": [
        {
          "output_type": "stream",
          "text": [
            "How many words? 3\n",
            "Give me a word: wonderful\n",
            "Give me a word: day\n",
            "Give me a word: nice\n"
          ],
          "name": "stdout"
        }
      ]
    },
    {
      "cell_type": "code",
      "metadata": {
        "id": "k6AIWCcFNSYE",
        "colab_type": "code",
        "outputId": "5e3e08de-13cf-4056-afd4-4813a16d5ef2",
        "colab": {
          "base_uri": "https://localhost:8080/",
          "height": 34
        }
      },
      "source": [
        "x=int(input(\"Give me the length: \"))\n"
      ],
      "execution_count": 0,
      "outputs": [
        {
          "output_type": "stream",
          "text": [
            "Give me the length: 2\n"
          ],
          "name": "stdout"
        }
      ]
    },
    {
      "cell_type": "code",
      "metadata": {
        "id": "egU4j5ywNUDF",
        "colab_type": "code",
        "outputId": "130b3887-4b5f-4238-d19a-8ddd2083c816",
        "colab": {
          "base_uri": "https://localhost:8080/",
          "height": 34
        }
      },
      "source": [
        "y = filter_long_words(a_list, x)"
      ],
      "execution_count": 0,
      "outputs": [
        {
          "output_type": "stream",
          "text": [
            "Words that are longer than 2  :  ['wonderful', 'day', 'nice']\n"
          ],
          "name": "stdout"
        }
      ]
    },
    {
      "cell_type": "code",
      "metadata": {
        "id": "SQxtu6rokyl-",
        "colab_type": "code",
        "colab": {}
      },
      "source": [
        "Write a Python program using function concept that maps  list of words into a list of integers representing the lengths of the corresponding words​. \n",
        " Hint: ​If a list [ ab,cde,erty] is passed on to the python function output should come as [2,3,4] "
      ],
      "execution_count": 0,
      "outputs": []
    },
    {
      "cell_type": "code",
      "metadata": {
        "id": "IF1DTk7airKd",
        "colab_type": "code",
        "colab": {}
      },
      "source": [
        "listOfWords = ['learning','python','is','fun']\n",
        " \n",
        "listOfInts = []\n",
        " \n",
        "for i in range(len(listOfWords)):\n",
        "    listOfInts.append(len(listOfWords[i]))"
      ],
      "execution_count": 0,
      "outputs": []
    },
    {
      "cell_type": "code",
      "metadata": {
        "id": "3npt3lEQixo5",
        "colab_type": "code",
        "colab": {
          "base_uri": "https://localhost:8080/",
          "height": 34
        },
        "outputId": "f5ce40a4-ac2c-4fb3-a944-8ca8737a4ce0"
      },
      "source": [
        "print (\"List of wordlength:\"+str(listOfInts))"
      ],
      "execution_count": 11,
      "outputs": [
        {
          "output_type": "stream",
          "text": [
            "List of wordlength:[8, 6, 2, 3]\n"
          ],
          "name": "stdout"
        }
      ]
    },
    {
      "cell_type": "markdown",
      "metadata": {
        "id": "GkVoHXXTTKu2",
        "colab_type": "text"
      },
      "source": [
        "Write a Python function which takes a character (i.e. a string of length 1) and returns True if it is a vowel, False otherwise. \n",
        " \n",
        " "
      ]
    },
    {
      "cell_type": "code",
      "metadata": {
        "id": "0vT3VW71TMzQ",
        "colab_type": "code",
        "colab": {}
      },
      "source": [
        "def is_vowel(char):\n",
        "  all_vowels = 'aeiou'\n",
        "  return char in all_vowels\n"
      ],
      "execution_count": 0,
      "outputs": []
    },
    {
      "cell_type": "code",
      "metadata": {
        "id": "Bo2CZeq8TeOq",
        "colab_type": "code",
        "outputId": "97fb1958-2b2e-49a8-e249-e1156c8f78f3",
        "colab": {
          "base_uri": "https://localhost:8080/",
          "height": 34
        }
      },
      "source": [
        "print(is_vowel(\"c\"))"
      ],
      "execution_count": 0,
      "outputs": [
        {
          "output_type": "stream",
          "text": [
            "False\n"
          ],
          "name": "stdout"
        }
      ]
    },
    {
      "cell_type": "code",
      "metadata": {
        "id": "YB5mY-0KTjcp",
        "colab_type": "code",
        "outputId": "bb7d62a6-0d51-4fdc-bca7-182428e2b039",
        "colab": {
          "base_uri": "https://localhost:8080/",
          "height": 34
        }
      },
      "source": [
        "print(is_vowel(\"a\"))"
      ],
      "execution_count": 0,
      "outputs": [
        {
          "output_type": "stream",
          "text": [
            "True\n"
          ],
          "name": "stdout"
        }
      ]
    },
    {
      "cell_type": "code",
      "metadata": {
        "id": "IYsVwxyZToNT",
        "colab_type": "code",
        "colab": {}
      },
      "source": [
        ""
      ],
      "execution_count": 0,
      "outputs": []
    }
  ]
}